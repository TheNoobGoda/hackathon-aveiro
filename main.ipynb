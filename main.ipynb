{
 "cells": [
  {
   "cell_type": "code",
   "execution_count": 1,
   "metadata": {},
   "outputs": [],
   "source": [
    "import pandas as pd\n",
    "import json\n",
    "import mpu"
   ]
  },
  {
   "cell_type": "code",
   "execution_count": 2,
   "metadata": {},
   "outputs": [],
   "source": [
    "with open('../Posts/P1/p1_09_09_1530_14_09_0000.json', 'r') as f:\n",
    "    lines = [json.loads(next(f)) for _ in range(50)]\n",
    "\n",
    "df = pd.DataFrame(lines)"
   ]
  },
  {
   "cell_type": "code",
   "execution_count": 3,
   "metadata": {},
   "outputs": [
    {
     "data": {
      "text/plain": [
       "0.001140483750226546"
      ]
     },
     "execution_count": 3,
     "metadata": {},
     "output_type": "execute_result"
    }
   ],
   "source": [
    "mpu.haversine_distance(df['location'][0]['coordinates'],df['location'][1]['coordinates'])"
   ]
  },
  {
   "cell_type": "code",
   "execution_count": 5,
   "metadata": {},
   "outputs": [
    {
     "name": "stdout",
     "output_type": "stream",
     "text": [
      "[0.001140483750226546, 0.011098793208653295, 0.0030520019504639315, 0.003249019322249006, 0.007418687828937593, 0.003172739097374113, 0.003136221803525886, 0.004061684711247172, 0.0030518997457078673, 0.037963127556096175, 0.03197789935208967, 0.0009238291532841579, 0.0010296452236555483, 0.005987155926023189, 0.0010297356250049627, 0.00110210794736861, 0.0049018970587259465, 0.0009694570240135643, 0.001140483460137475, 0.025732095964392295, 0.0004801750907806011, 0.0009161078742523597, 0.0002865647251632906, 0.039770849210661166, 0.002739321490083013, 0.0006850450722662307, 0.0006850947714348727, 0.0034213571227109715, 0.0007452220351709745, 0.0006850947584191606, 0.002678954009465419, 0.005039809758105767, 0.0022355771495483133, 0.0019514932988225868, 0.002696680244416966, 0.0021291433344518876, 0.002874007642048808, 0.0021291433483814092, 0.005529717805456904, 0.0008553483385043036, 0.0028574075540284665, 0.0006849964896964661, 0.000646017954361443, 0.007585756028662613, 0.001446465942216323, 0.002410032965246616, 0.0015685691040659064, 0.0015389346276733827, 0.003993694055308782]\n"
     ]
    }
   ],
   "source": [
    "coordinates = [item['coordinates'] for item in df['location']]\n",
    "distance = [mpu.haversine_distance((df['location'][i]['coordinates']),(df['location'][i+1]['coordinates'])) for i in range(len(df['location'])-1) ]\n",
    "print(distance)"
   ]
  }
 ],
 "metadata": {
  "kernelspec": {
   "display_name": ".venv",
   "language": "python",
   "name": "python3"
  },
  "language_info": {
   "codemirror_mode": {
    "name": "ipython",
    "version": 3
   },
   "file_extension": ".py",
   "mimetype": "text/x-python",
   "name": "python",
   "nbconvert_exporter": "python",
   "pygments_lexer": "ipython3",
   "version": "3.12.6"
  }
 },
 "nbformat": 4,
 "nbformat_minor": 2
}
